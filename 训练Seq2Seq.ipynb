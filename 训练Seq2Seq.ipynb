{
 "cells": [
  {
   "cell_type": "markdown",
   "metadata": {},
   "source": [
    "# 导入数据"
   ]
  },
  {
   "cell_type": "code",
   "execution_count": 7,
   "metadata": {},
   "outputs": [],
   "source": [
    "from yz.task_dec2high_pddl import *"
   ]
  },
  {
   "cell_type": "code",
   "execution_count": 8,
   "metadata": {},
   "outputs": [],
   "source": [
    "args = set_up_args()"
   ]
  },
  {
   "cell_type": "code",
   "execution_count": 9,
   "metadata": {},
   "outputs": [],
   "source": [
    "args.gpu = True"
   ]
  },
  {
   "cell_type": "code",
   "execution_count": 10,
   "metadata": {},
   "outputs": [
    {
     "name": "stdout",
     "output_type": "stream",
     "text": [
      "{'tests_seen': 1533, 'tests_unseen': 1529, 'train': 21023, 'valid_seen': 820, 'valid_unseen': 821}\n"
     ]
    },
    {
     "data": {
      "application/vnd.jupyter.widget-view+json": {
       "model_id": "560f034b2efe4e8496ab96191a88244f",
       "version_major": 2,
       "version_minor": 0
      },
      "text/plain": [
       "HBox(children=(HTML(value=''), FloatProgress(value=0.0, max=21023.0), HTML(value='')))"
      ]
     },
     "metadata": {},
     "output_type": "display_data"
    },
    {
     "name": "stdout",
     "output_type": "stream",
     "text": [
      "\n"
     ]
    }
   ],
   "source": [
    "task2plan_train = load_task_and_plan_json(args, \"train\")"
   ]
  },
  {
   "cell_type": "code",
   "execution_count": 11,
   "metadata": {},
   "outputs": [
    {
     "data": {
      "application/vnd.jupyter.widget-view+json": {
       "model_id": "8cc0bfd4a7f24c58afcd3b511a7ab91d",
       "version_major": 2,
       "version_minor": 0
      },
      "text/plain": [
       "HBox(children=(HTML(value=''), FloatProgress(value=0.0, max=21023.0), HTML(value='')))"
      ]
     },
     "metadata": {},
     "output_type": "display_data"
    },
    {
     "name": "stdout",
     "output_type": "stream",
     "text": [
      "\n"
     ]
    }
   ],
   "source": [
    "tpd = TaskPlanDataset(task2plan_train)"
   ]
  },
  {
   "cell_type": "markdown",
   "metadata": {},
   "source": [
    "# 写入字典"
   ]
  },
  {
   "cell_type": "code",
   "execution_count": 12,
   "metadata": {},
   "outputs": [],
   "source": [
    "#tpd[np.random.randint(1000)]"
   ]
  },
  {
   "cell_type": "code",
   "execution_count": 13,
   "metadata": {},
   "outputs": [],
   "source": [
    "#tpd.write_vocab(\"yz/vocab.txt\")"
   ]
  },
  {
   "cell_type": "markdown",
   "metadata": {},
   "source": [
    "# 训练"
   ]
  },
  {
   "cell_type": "code",
   "execution_count": 14,
   "metadata": {},
   "outputs": [],
   "source": [
    "train_dataloader = DataLoader(tpd, batch_size=args.batch, shuffle=True,)"
   ]
  },
  {
   "cell_type": "code",
   "execution_count": 15,
   "metadata": {},
   "outputs": [],
   "source": [
    "tasks, plans = next(iter(train_dataloader))"
   ]
  },
  {
   "cell_type": "code",
   "execution_count": 16,
   "metadata": {},
   "outputs": [
    {
     "data": {
      "text/plain": [
       "('place two bars of soap in the garbage bin to the right of the toilet turn around to face the center of the bathroom sink counter. grab a soap bar off of the bathroom counter. turn left and walk to the end of the room where the toilet is, then turn to face the toilet. place the bar of soap in the garbage bin to the right of the toilet. move to the left a bit and face the toilet again. grab the bar of soap off of the top of the toilet. move to the right a bit and face the toilet again. place the bar of soap in the garbage bin to the right of the toilet. ',\n",
       " 'Move a rag from a cabinet to the sink. turn around, walk a few steps, then turn right and walk over to the bathroom sinks. open the left cabinet under the right sink and take out the red rag that is inside. move over to stand directly in front of the right hand sink. put the red rag in the sink. ',\n",
       " 'Inspect keys by lamp light. walk forward until you are past the bed on your right then when you are turn right and walk to the black chair then turn right and walk to the lamp then turn right to face it. turn on the lamp then look down at the table. pick up the keys that are on the table under the pen. ',\n",
       " 'Move two phones from the dresser to the bed. move to the dresser at the foot of the bed on the left side. pick up a phone from the dresser. move to the foot of the bed in the middle of the room. place the phone on the bed. move to the dresser at the foot of the bed on the right side. pick up a phone from the dresser. move to the foot of the bed in the middle of the room. place the phone on the bed. ',\n",
       " 'trash a cooked egg move around to the table. pick up the egg on the table. head to the oven. cook the egg in the oven and take it out. turn around and head for the trash bin. drop the cooked egg in the trash bin. ',\n",
       " 'Put a pot with a spatula on the island. move to the island to the right of the stove. pick up a spatula from the island. move to the stove to the right of you. place the spatula in a pot on the stove. pick up the pot with the spatula from the stove. move to the island across from the sink. place the pot on the island. ',\n",
       " \"Put a towel in the sink. turn right and walk to the wall. grab the towel that's on the ring hanging from the wall. turn right to face the sink. put the towel in the sink. \",\n",
       " 'Putting a cold tomato slice in front of the sink turn right and go to the counter with the microwave. grab the knife off of the counter. look up at the counter. slice the tomato on the counter. turn right and go to the fridge. put the knife in the fridge. turn left and go to the counter with the microwave. grab a slice of tomato off of the counter. turn right and go to the fridge. cool the tomato slice in the fridge and then take it out. turn left and look at the sink. put the tomato slice in front of the sink. ')"
      ]
     },
     "execution_count": 16,
     "metadata": {},
     "output_type": "execute_result"
    }
   ],
   "source": [
    "tasks"
   ]
  },
  {
   "cell_type": "code",
   "execution_count": 17,
   "metadata": {},
   "outputs": [],
   "source": [
    "from transformers import BertTokenizer"
   ]
  },
  {
   "cell_type": "code",
   "execution_count": 18,
   "metadata": {},
   "outputs": [],
   "source": [
    "# Load pre-trained model tokenizer (vocabulary)\n",
    "encoder_tokenizer = BertTokenizer.from_pretrained('bert-base-uncased')\n",
    "\n",
    "# tokenized_text = encoder_tokenizer(tasks, padding=True, truncation=True, max_length=100, return_tensors=\"pt\").input_ids\n",
    "\n",
    "decoder_tokenizer = BasicTokenizer(\"yz/vocab.txt\")\n",
    "\n",
    "#targets = torch.LongTensor(decoder_tokenizer.tokenize(plans))"
   ]
  },
  {
   "cell_type": "code",
   "execution_count": 19,
   "metadata": {},
   "outputs": [],
   "source": [
    "from transformers import BertConfig, EncoderDecoderConfig, EncoderDecoderModel"
   ]
  },
  {
   "cell_type": "markdown",
   "metadata": {},
   "source": [
    "# 导入模型 BERT"
   ]
  },
  {
   "cell_type": "code",
   "execution_count": 20,
   "metadata": {},
   "outputs": [],
   "source": [
    "# Initializing a BERT bert-base-uncased style configuration\n",
    "config_encoder = BertConfig()\n",
    "config_decoder = BertConfig()\n",
    "\n",
    "config_decoder.update({\n",
    "    \"vocab_size\": len(decoder_tokenizer.vocab),\n",
    "    \"num_hidden_layers\":3,\n",
    "    \"num_attention_heads\":3\n",
    "})\n",
    "\n",
    "config = EncoderDecoderConfig.from_encoder_decoder_configs(config_encoder, config_decoder)"
   ]
  },
  {
   "cell_type": "code",
   "execution_count": 21,
   "metadata": {},
   "outputs": [],
   "source": [
    "model = EncoderDecoderModel(config=config)"
   ]
  },
  {
   "cell_type": "code",
   "execution_count": 25,
   "metadata": {},
   "outputs": [],
   "source": [
    "model.encoder = BertModel.from_pretrained('bert-base-uncased')"
   ]
  },
  {
   "cell_type": "code",
   "execution_count": 26,
   "metadata": {},
   "outputs": [],
   "source": [
    "if args.gpu and torch.cuda.is_available():\n",
    "    model = model.cuda()"
   ]
  },
  {
   "cell_type": "code",
   "execution_count": 27,
   "metadata": {},
   "outputs": [],
   "source": [
    "loss_fun = nn.CrossEntropyLoss(ignore_index=0)"
   ]
  },
  {
   "cell_type": "code",
   "execution_count": 28,
   "metadata": {},
   "outputs": [],
   "source": [
    "optimizer = torch.optim.Adam(model.decoder.parameters(), lr=args.lr)"
   ]
  },
  {
   "cell_type": "code",
   "execution_count": 29,
   "metadata": {},
   "outputs": [
    {
     "name": "stdout",
     "output_type": "stream",
     "text": [
      "2021-03-15 20:12:40.785960\n"
     ]
    }
   ],
   "source": [
    "from datetime import datetime\n",
    "\n",
    "# datetime object containing current date and time\n",
    "begin_time = datetime.now()\n",
    "print(begin_time)"
   ]
  },
  {
   "cell_type": "code",
   "execution_count": null,
   "metadata": {},
   "outputs": [
    {
     "data": {
      "application/vnd.jupyter.widget-view+json": {
       "model_id": "fbaaae6c1bd6429d98eae9aad94cc47c",
       "version_major": 2,
       "version_minor": 0
      },
      "text/plain": [
       "HBox(children=(HTML(value=''), FloatProgress(value=0.0, max=8786.0), HTML(value='')))"
      ]
     },
     "metadata": {},
     "output_type": "display_data"
    }
   ],
   "source": [
    "for epoch in range(args.epoch):\n",
    "    model.train()\n",
    "    train_loss_list = []\n",
    "    train_acc_list = []\n",
    "    for tasks, plans in tqdm(train_dataloader):\n",
    "        tokenized_text = encoder_tokenizer(tasks, padding=True, truncation=True, \n",
    "                                           max_length=100, return_tensors=\"pt\").input_ids\n",
    "#         try:\n",
    "        targets = torch.LongTensor(decoder_tokenizer.tokenize(plans))\n",
    "#         except:\n",
    "#             print(tasks)\n",
    "#             print(plans)\n",
    "        if args.gpu and torch.cuda.is_available():\n",
    "            tokenized_text = tokenized_text.to(\"cuda\")\n",
    "            targets = targets.to(\"cuda\")\n",
    "        \n",
    "        outputs = model(input_ids = tokenized_text, decoder_input_ids = targets[:,:-1])\n",
    "        \n",
    "        output_dim = outputs.logits.shape[-1]\n",
    "        outputs.logits = outputs.logits.contiguous().view(-1, output_dim)\n",
    "        labels = targets[:,1:].contiguous().view(-1)\n",
    "        \n",
    "        train_loss = loss_fun(outputs.logits, labels)\n",
    "        #print(train_loss)\n",
    "        \n",
    "        optimizer.zero_grad()\n",
    "        train_loss.backward()\n",
    "        optimizer.step()\n",
    "        \n",
    "        train_acc = calculate_accuracy(outputs.logits, labels)\n",
    "        \n",
    "        train_loss_list.append(train_loss.item())\n",
    "        train_acc_list.append(train_acc)\n",
    "        \n",
    "        \n",
    "    mean_train_loss = sum(train_loss_list) / (len(train_loss_list) + 1e-4)\n",
    "    mean_train_acc = sum(train_acc_list) / (len(train_acc_list) + 1e-4)\n",
    "    print(\"epoch: {} train_loss: {:.3f}, train_acc: {:.3f}\".format(epoch, mean_train_loss, mean_train_acc))"
   ]
  },
  {
   "cell_type": "code",
   "execution_count": 22,
   "metadata": {},
   "outputs": [
    {
     "name": "stdout",
     "output_type": "stream",
     "text": [
      "2021-03-15 20:11:33.176086\n"
     ]
    }
   ],
   "source": [
    "# datetime object containing current date and time\n",
    "end_time = datetime.now()\n",
    "print(end_time)"
   ]
  },
  {
   "cell_type": "code",
   "execution_count": 23,
   "metadata": {},
   "outputs": [],
   "source": [
    "torch.save(model.state_dict(), \"exp/{}.pth\".format(end_time))"
   ]
  },
  {
   "cell_type": "code",
   "execution_count": 24,
   "metadata": {},
   "outputs": [
    {
     "data": {
      "text/plain": [
       "<All keys matched successfully>"
      ]
     },
     "execution_count": 24,
     "metadata": {},
     "output_type": "execute_result"
    }
   ],
   "source": [
    "#model.load_state_dict(torch.load(\"exp/2021-03-15 20:11:33.176086.pth\"))"
   ]
  },
  {
   "cell_type": "code",
   "execution_count": null,
   "metadata": {},
   "outputs": [],
   "source": []
  }
 ],
 "metadata": {
  "kernelspec": {
   "display_name": "Python 3",
   "language": "python",
   "name": "python3"
  },
  "language_info": {
   "codemirror_mode": {
    "name": "ipython",
    "version": 3
   },
   "file_extension": ".py",
   "mimetype": "text/x-python",
   "name": "python",
   "nbconvert_exporter": "python",
   "pygments_lexer": "ipython3",
   "version": "3.8.5"
  }
 },
 "nbformat": 4,
 "nbformat_minor": 4
}
