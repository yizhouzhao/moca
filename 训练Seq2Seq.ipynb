{
 "cells": [
  {
   "cell_type": "markdown",
   "metadata": {},
   "source": [
    "# 导入数据"
   ]
  },
  {
   "cell_type": "code",
   "execution_count": 1,
   "metadata": {},
   "outputs": [],
   "source": [
    "from yz.task_dec2high_pddl import *"
   ]
  },
  {
   "cell_type": "code",
   "execution_count": 2,
   "metadata": {},
   "outputs": [],
   "source": [
    "args = set_up_args()"
   ]
  },
  {
   "cell_type": "code",
   "execution_count": 3,
   "metadata": {},
   "outputs": [],
   "source": [
    "args.gpu = True"
   ]
  },
  {
   "cell_type": "code",
   "execution_count": 4,
   "metadata": {},
   "outputs": [
    {
     "name": "stdout",
     "output_type": "stream",
     "text": [
      "{'tests_seen': 1533, 'tests_unseen': 1529, 'train': 21023, 'valid_seen': 820, 'valid_unseen': 821}\n"
     ]
    },
    {
     "data": {
      "application/vnd.jupyter.widget-view+json": {
       "model_id": "bd61442738d94df2922565bc4a331534",
       "version_major": 2,
       "version_minor": 0
      },
      "text/plain": [
       "HBox(children=(HTML(value=''), FloatProgress(value=0.0, max=21023.0), HTML(value='')))"
      ]
     },
     "metadata": {},
     "output_type": "display_data"
    },
    {
     "name": "stdout",
     "output_type": "stream",
     "text": [
      "\n"
     ]
    }
   ],
   "source": [
    "task2plan_train = load_task_and_plan_json(args, \"train\")"
   ]
  },
  {
   "cell_type": "code",
   "execution_count": 5,
   "metadata": {},
   "outputs": [
    {
     "data": {
      "application/vnd.jupyter.widget-view+json": {
       "model_id": "d2fe44b7387643d4bc3cf2a545fe53d0",
       "version_major": 2,
       "version_minor": 0
      },
      "text/plain": [
       "HBox(children=(HTML(value=''), FloatProgress(value=0.0, max=21023.0), HTML(value='')))"
      ]
     },
     "metadata": {},
     "output_type": "display_data"
    },
    {
     "name": "stdout",
     "output_type": "stream",
     "text": [
      "\n"
     ]
    }
   ],
   "source": [
    "tpd = TaskPlanDataset(task2plan_train)"
   ]
  },
  {
   "cell_type": "markdown",
   "metadata": {},
   "source": [
    "# 写入字典"
   ]
  },
  {
   "cell_type": "code",
   "execution_count": 6,
   "metadata": {},
   "outputs": [],
   "source": [
    "#tpd[np.random.randint(1000)]"
   ]
  },
  {
   "cell_type": "code",
   "execution_count": 7,
   "metadata": {},
   "outputs": [],
   "source": [
    "tpd.write_vocab(\"yz/vocab.txt\")"
   ]
  },
  {
   "cell_type": "markdown",
   "metadata": {},
   "source": [
    "# 训练"
   ]
  },
  {
   "cell_type": "code",
   "execution_count": 8,
   "metadata": {},
   "outputs": [],
   "source": [
    "train_dataloader = DataLoader(tpd, batch_size=args.batch, shuffle=True,)"
   ]
  },
  {
   "cell_type": "code",
   "execution_count": 9,
   "metadata": {},
   "outputs": [],
   "source": [
    "tasks, plans = next(iter(train_dataloader))"
   ]
  },
  {
   "cell_type": "code",
   "execution_count": 10,
   "metadata": {},
   "outputs": [
    {
     "data": {
      "text/plain": [
       "('Move the pump bottle from next to the sink to inside the cabinet. turn right, then turn right again and move to the sinks. pick up the pump bottle to the left of the rightmost sink. turn around and take a step forward, then turn back around to face the sinks again. open the right cabinet door on the rightmost cabinet under the sink and put the pump bottle inside, then close the door. ',\n",
       " 'Get box of tissues out of drawer and turn on lamp. move slightly right and proceed to dresser. open bottom right drawer of dresser, remove box of tissues, and close drawer. turn left, proceed to wall.  turn right, proceed to dresser. turn on lamp on top of dresser. ',\n",
       " 'Place the box with the credit card on the leather chair. turn around towards the other side of the room and look up to see the vase on the upper shelf. grab the credit card next to the vase. turn right, head towards the coffee table, stand in front of the opened box. place the card in the box. pick up the box with the card in it from the table. turn right, then turn left towards the sofa chair. place the box on the chair. ',\n",
       " 'Rinse a knife and place it on the counter. turn around and go back, then left around the island and face it on the left. pick up the knife from the far side of the island. hold the knife and turn around to the sink. place the knife in the sink, turn on the water and off again. pick up the knife from the sink. hold the knife and turn around to the island. place the knife on the island, in the front center. ',\n",
       " 'Look at an alarm clock by the light of a lamp. turn around and walk to the dresser at the foot of the bed. pick up the alarm clock on the dresser. take a step left. turn on the lamp on the dresser. ',\n",
       " 'Place the refrigerated bread on the white table in the corner of the kitchen. turn to the right to face the bread on the counter next to the microwave. pick the bread up from off of the counter top. turn to the right then go straight and to the left to face the black refrigerator. open the refrigerator, place the bread inside, close the refrigerator, wait a few seconds, open the refrigerator, pick up the bread, and close the refrigerator. turn around and walk towards the white table. place the bread on the white table. ',\n",
       " \"Place a CD on a dresser. turn around and walk to the desk. pick up the cd closest to the side of the desk you're facing. turn left and walk to the far wall, then turn right and face the dresser. put the cd on the dresser to the right of the safe. \",\n",
       " 'Put the toilet paper away. take two steps then turn left and walk to the counter. pick up the toilet paper that is sitting to the right of the sink. turn around and take one step, then turn right and walk across the room, then turn right to face the toilet. put the toilet paper on the toilet paper holder on the wall to the left of the toilet. ')"
      ]
     },
     "execution_count": 10,
     "metadata": {},
     "output_type": "execute_result"
    }
   ],
   "source": [
    "tasks"
   ]
  },
  {
   "cell_type": "code",
   "execution_count": 11,
   "metadata": {},
   "outputs": [],
   "source": [
    "from transformers import BertTokenizer"
   ]
  },
  {
   "cell_type": "code",
   "execution_count": 12,
   "metadata": {},
   "outputs": [],
   "source": [
    "# Load pre-trained model tokenizer (vocabulary)\n",
    "encoder_tokenizer = BertTokenizer.from_pretrained('bert-base-uncased')\n",
    "\n",
    "# tokenized_text = encoder_tokenizer(tasks, padding=True, truncation=True, max_length=100, return_tensors=\"pt\").input_ids\n",
    "\n",
    "decoder_tokenizer = BasicTokenizer(\"yz/vocab.txt\")\n",
    "\n",
    "#targets = torch.LongTensor(decoder_tokenizer.tokenize(plans))"
   ]
  },
  {
   "cell_type": "code",
   "execution_count": 13,
   "metadata": {},
   "outputs": [],
   "source": [
    "from transformers import BertConfig, EncoderDecoderConfig, EncoderDecoderModel"
   ]
  },
  {
   "cell_type": "markdown",
   "metadata": {},
   "source": [
    "# 导入模型 BERT"
   ]
  },
  {
   "cell_type": "code",
   "execution_count": 14,
   "metadata": {},
   "outputs": [],
   "source": [
    "# Initializing a BERT bert-base-uncased style configuration\n",
    "config_encoder = BertConfig()\n",
    "config_decoder = BertConfig()\n",
    "\n",
    "config_decoder.update({\n",
    "    \"vocab_size\": len(decoder_tokenizer.vocab),\n",
    "    \"num_hidden_layers\":3,\n",
    "    \"num_attention_heads\":3\n",
    "})\n",
    "\n",
    "config = EncoderDecoderConfig.from_encoder_decoder_configs(config_encoder, config_decoder)"
   ]
  },
  {
   "cell_type": "code",
   "execution_count": 15,
   "metadata": {},
   "outputs": [],
   "source": [
    "model = EncoderDecoderModel(config=config)"
   ]
  },
  {
   "cell_type": "code",
   "execution_count": 16,
   "metadata": {},
   "outputs": [],
   "source": [
    "model.encoder = BertModel.from_pretrained('bert-base-uncased')"
   ]
  },
  {
   "cell_type": "code",
   "execution_count": 17,
   "metadata": {},
   "outputs": [],
   "source": [
    "if args.gpu and torch.cuda.is_available():\n",
    "    model = model.cuda()"
   ]
  },
  {
   "cell_type": "code",
   "execution_count": 18,
   "metadata": {},
   "outputs": [],
   "source": [
    "loss_fun = nn.CrossEntropyLoss(ignore_index=0)"
   ]
  },
  {
   "cell_type": "code",
   "execution_count": 19,
   "metadata": {},
   "outputs": [],
   "source": [
    "optimizer = torch.optim.Adam(model.decoder.parameters(), lr=args.lr)"
   ]
  },
  {
   "cell_type": "code",
   "execution_count": 20,
   "metadata": {},
   "outputs": [
    {
     "name": "stdout",
     "output_type": "stream",
     "text": [
      "2021-03-15 20:27:12.884322\n"
     ]
    }
   ],
   "source": [
    "from datetime import datetime\n",
    "\n",
    "# datetime object containing current date and time\n",
    "begin_time = datetime.now()\n",
    "print(begin_time)"
   ]
  },
  {
   "cell_type": "code",
   "execution_count": null,
   "metadata": {},
   "outputs": [
    {
     "data": {
      "application/vnd.jupyter.widget-view+json": {
       "model_id": "e487bb7ba5614158a9f4aae45bd52ba0",
       "version_major": 2,
       "version_minor": 0
      },
      "text/plain": [
       "HBox(children=(HTML(value=''), FloatProgress(value=0.0, max=8786.0), HTML(value='')))"
      ]
     },
     "metadata": {},
     "output_type": "display_data"
    },
    {
     "name": "stdout",
     "output_type": "stream",
     "text": [
      "\n",
      "epoch: 0 train_loss: 0.475, train_acc: 0.582\n"
     ]
    },
    {
     "data": {
      "application/vnd.jupyter.widget-view+json": {
       "model_id": "242925771c3d4d808f48a07d48fcdab9",
       "version_major": 2,
       "version_minor": 0
      },
      "text/plain": [
       "HBox(children=(HTML(value=''), FloatProgress(value=0.0, max=8786.0), HTML(value='')))"
      ]
     },
     "metadata": {},
     "output_type": "display_data"
    }
   ],
   "source": [
    "for epoch in range(args.epoch):\n",
    "    model.train()\n",
    "    train_loss_list = []\n",
    "    train_acc_list = []\n",
    "    for tasks, plans in tqdm(train_dataloader):\n",
    "        tokenized_text = encoder_tokenizer(tasks, padding=True, truncation=True, \n",
    "                                           max_length=100, return_tensors=\"pt\").input_ids\n",
    "#         try:\n",
    "        targets = torch.LongTensor(decoder_tokenizer.tokenize(plans))\n",
    "#         except:\n",
    "#             print(tasks)\n",
    "#             print(plans)\n",
    "        if args.gpu and torch.cuda.is_available():\n",
    "            tokenized_text = tokenized_text.to(\"cuda\")\n",
    "            targets = targets.to(\"cuda\")\n",
    "        \n",
    "        outputs = model(input_ids = tokenized_text, decoder_input_ids = targets[:,:-1])\n",
    "        \n",
    "        output_dim = outputs.logits.shape[-1]\n",
    "        outputs.logits = outputs.logits.contiguous().view(-1, output_dim)\n",
    "        labels = targets[:,1:].contiguous().view(-1)\n",
    "        \n",
    "        train_loss = loss_fun(outputs.logits, labels)\n",
    "        #print(train_loss)\n",
    "        \n",
    "        optimizer.zero_grad()\n",
    "        train_loss.backward()\n",
    "        optimizer.step()\n",
    "        \n",
    "        train_acc = calculate_accuracy(outputs.logits, labels)\n",
    "        \n",
    "        train_loss_list.append(train_loss.item())\n",
    "        train_acc_list.append(train_acc)\n",
    "        \n",
    "        \n",
    "    mean_train_loss = sum(train_loss_list) / (len(train_loss_list) + 1e-4)\n",
    "    mean_train_acc = sum(train_acc_list) / (len(train_acc_list) + 1e-4)\n",
    "    print(\"epoch: {} train_loss: {:.3f}, train_acc: {:.3f}\".format(epoch, mean_train_loss, mean_train_acc))"
   ]
  },
  {
   "cell_type": "code",
   "execution_count": null,
   "metadata": {},
   "outputs": [],
   "source": [
    "targets.shape"
   ]
  },
  {
   "cell_type": "code",
   "execution_count": null,
   "metadata": {
    "scrolled": false
   },
   "outputs": [],
   "source": [
    "plans"
   ]
  },
  {
   "cell_type": "code",
   "execution_count": null,
   "metadata": {},
   "outputs": [],
   "source": [
    "for p in plans:\n",
    "    print(len(p.split()))"
   ]
  },
  {
   "cell_type": "code",
   "execution_count": null,
   "metadata": {},
   "outputs": [],
   "source": [
    "max_length = max([len(item.split()) for item in plans])"
   ]
  },
  {
   "cell_type": "code",
   "execution_count": null,
   "metadata": {},
   "outputs": [],
   "source": [
    "what = decoder_tokenizer.tokenize(plans)"
   ]
  },
  {
   "cell_type": "code",
   "execution_count": null,
   "metadata": {},
   "outputs": [],
   "source": [
    "what[0]"
   ]
  },
  {
   "cell_type": "code",
   "execution_count": null,
   "metadata": {
    "scrolled": true
   },
   "outputs": [],
   "source": [
    "for w in what:\n",
    "    print(len(w))"
   ]
  },
  {
   "cell_type": "code",
   "execution_count": null,
   "metadata": {},
   "outputs": [],
   "source": [
    "decoded_string = \"\""
   ]
  },
  {
   "cell_type": "code",
   "execution_count": null,
   "metadata": {},
   "outputs": [],
   "source": [
    "decoder_tokenizer.vocab_verse = {v:k for k,v in decoder_tokenizer.vocab.items()}"
   ]
  },
  {
   "cell_type": "code",
   "execution_count": null,
   "metadata": {},
   "outputs": [],
   "source": [
    "for label in what[-3]:\n",
    "    decoded_string += decoder_tokenizer.vocab_verse[label] + \" \""
   ]
  },
  {
   "cell_type": "code",
   "execution_count": null,
   "metadata": {},
   "outputs": [],
   "source": [
    "decoded_string"
   ]
  },
  {
   "cell_type": "code",
   "execution_count": null,
   "metadata": {},
   "outputs": [],
   "source": [
    "torch.LongTensor(what)"
   ]
  },
  {
   "cell_type": "code",
   "execution_count": null,
   "metadata": {},
   "outputs": [],
   "source": [
    "torch.LongTensor(decoder_tokenizer.tokenize(plans))"
   ]
  },
  {
   "cell_type": "code",
   "execution_count": null,
   "metadata": {},
   "outputs": [],
   "source": [
    "# datetime object containing current date and time\n",
    "end_time = datetime.now()\n",
    "print(end_time)"
   ]
  },
  {
   "cell_type": "code",
   "execution_count": null,
   "metadata": {},
   "outputs": [],
   "source": [
    "torch.save(model.state_dict(), \"exp/{}.pth\".format(end_time))"
   ]
  },
  {
   "cell_type": "code",
   "execution_count": null,
   "metadata": {},
   "outputs": [],
   "source": [
    "#model.load_state_dict(torch.load(\"exp/2021-03-15 20:11:33.176086.pth\"))"
   ]
  },
  {
   "cell_type": "code",
   "execution_count": null,
   "metadata": {},
   "outputs": [],
   "source": []
  }
 ],
 "metadata": {
  "kernelspec": {
   "display_name": "Python 3",
   "language": "python",
   "name": "python3"
  },
  "language_info": {
   "codemirror_mode": {
    "name": "ipython",
    "version": 3
   },
   "file_extension": ".py",
   "mimetype": "text/x-python",
   "name": "python",
   "nbconvert_exporter": "python",
   "pygments_lexer": "ipython3",
   "version": "3.8.5"
  }
 },
 "nbformat": 4,
 "nbformat_minor": 4
}
